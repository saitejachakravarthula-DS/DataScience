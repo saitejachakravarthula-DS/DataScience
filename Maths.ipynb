{
 "cells": [
  {
   "cell_type": "markdown",
   "id": "97e68a59-56ec-4f9d-aac6-7d6f61c1ef5d",
   "metadata": {},
   "source": [
    "# Maths\n",
    "Formula sheet - https://github.com/saitejachakravarthula-DS/DataScience/blob/main/Useful%20maths%20formulas.md"
   ]
  },
  {
   "attachments": {},
   "cell_type": "markdown",
   "id": "ce3d55a1-674a-4c5b-834f-df74ba09c35b",
   "metadata": {},
   "source": [
    "## Logarithm\r\n",
    "The exponent or power to which a base must be raised to yield a given number. Expressed mathematically, x is the logarithm of n to the base b if bx = n, in which case one writes x = logb n. For example, 23 = 8; therefore, 3 is the logarithm of 8 to base 2, or 3 = log<sub>2</sub> 8.\r\n",
    "\r\n",
    "<img src=\"https://media.giphy.com/media/iRBz7kiE3HsSA/giphy.gif\" width=\"250\" />\r\n",
    "\r\n",
    "\r\n",
    "Python functions for computing log :\r\n",
    "```\r\n",
    "- math.log(x)    -> returns log(x) with base=e\r\n",
    "- math.log(x,a)  -> returns log(x) with base=a\r\n",
    "- math.log2(x)   -> returns log(x) with base=2\r\n",
    "- math.log10(x)  -> returns log(x) with base=10\r\n",
    "```"
   ]
  },
  {
   "cell_type": "code",
   "execution_count": 1,
   "id": "c926e274-517e-48eb-92d6-1da57ab661ca",
   "metadata": {},
   "outputs": [],
   "source": [
    "\n",
    "import math"
   ]
  },
  {
   "cell_type": "code",
   "execution_count": 2,
   "id": "e003d53f-4e68-48de-9e93-183b304c8471",
   "metadata": {},
   "outputs": [
    {
     "data": {
      "text/plain": [
       "2.302585092994046"
      ]
     },
     "execution_count": 2,
     "metadata": {},
     "output_type": "execute_result"
    }
   ],
   "source": [
    "\n",
    "math.log(10)"
   ]
  },
  {
   "cell_type": "code",
   "execution_count": 3,
   "id": "1847ee44-913f-4925-a608-0f7e4c3af689",
   "metadata": {},
   "outputs": [
    {
     "data": {
      "text/plain": [
       "3.0"
      ]
     },
     "execution_count": 3,
     "metadata": {},
     "output_type": "execute_result"
    }
   ],
   "source": [
    "\n",
    "math.log(343, 7)"
   ]
  },
  {
   "cell_type": "code",
   "execution_count": 4,
   "id": "edfeedb0-dd7d-4860-8371-4ee85be1c939",
   "metadata": {},
   "outputs": [
    {
     "data": {
      "text/plain": [
       "4.0"
      ]
     },
     "execution_count": 4,
     "metadata": {},
     "output_type": "execute_result"
    }
   ],
   "source": [
    "\n",
    "math.log2(16)"
   ]
  },
  {
   "cell_type": "code",
   "execution_count": 5,
   "id": "3e486f55-e9ca-4351-a218-dd379b78b3e8",
   "metadata": {},
   "outputs": [
    {
     "name": "stdout",
     "output_type": "stream",
     "text": [
      "100\n",
      "50.0\n",
      "25.0\n",
      "12.5\n",
      "6.25\n",
      "3.125\n",
      "1.5625\n"
     ]
    }
   ],
   "source": [
    "\n",
    "n = 100\n",
    "\n",
    "while n > 1:\n",
    "    print(n)\n",
    "    n = n / 2"
   ]
  },
  {
   "cell_type": "markdown",
   "id": "4b9460fb-f1c3-4c55-90c2-797055b1a5d2",
   "metadata": {},
   "source": [
    "## How many iterations would the above code snippet take ? \r\n",
    "\r\n",
    "Approx log<sub>2</sub>n"
   ]
  },
  {
   "cell_type": "markdown",
   "id": "efd11b44-cb30-4c0d-99e0-9660bf22e86f",
   "metadata": {},
   "source": [
    "## GCD\n",
    "math module method -\n",
    "`math.gcd(*integers)`"
   ]
  },
  {
   "cell_type": "code",
   "execution_count": 6,
   "id": "09a958d8-7e06-455a-9c69-311cc13baee1",
   "metadata": {},
   "outputs": [
    {
     "data": {
      "text/plain": [
       "1"
      ]
     },
     "execution_count": 6,
     "metadata": {},
     "output_type": "execute_result"
    }
   ],
   "source": [
    "math.gcd(2,3)"
   ]
  },
  {
   "cell_type": "code",
   "execution_count": 7,
   "id": "98331f39-9cb1-4491-9ba2-4f8c2b37060b",
   "metadata": {},
   "outputs": [
    {
     "data": {
      "text/plain": [
       "5"
      ]
     },
     "execution_count": 7,
     "metadata": {},
     "output_type": "execute_result"
    }
   ],
   "source": [
    "math.gcd(10,15,40)"
   ]
  },
  {
   "cell_type": "code",
   "execution_count": 8,
   "id": "1a9ad63f-eb39-4ac7-946c-7538b3ee092e",
   "metadata": {},
   "outputs": [
    {
     "name": "stdin",
     "output_type": "stream",
     "text": [
      " 10\n",
      " 10\n"
     ]
    },
    {
     "name": "stdout",
     "output_type": "stream",
     "text": [
      "GCD is 10\n"
     ]
    }
   ],
   "source": [
    "a = int(input())\n",
    "b = int(input())\n",
    "\n",
    "def gcd(a,b):\n",
    "    while a != 0:\n",
    "        a, b = b % a, a\n",
    "    return b\n",
    "    \n",
    "print(\"GCD is\", gcd(a,b))"
   ]
  },
  {
   "cell_type": "markdown",
   "id": "f82f8a00-1c22-445c-be78-c1a7aa3cb709",
   "metadata": {},
   "source": [
    "## LCM"
   ]
  },
  {
   "cell_type": "markdown",
   "id": "8182c024-188b-49d2-bf26-85689d88b649",
   "metadata": {},
   "source": [
    "math module method -\n",
    "`math.lcm(*integers)`"
   ]
  },
  {
   "cell_type": "code",
   "execution_count": 9,
   "id": "f11855d6-56b2-4bca-8653-ffbe70759c42",
   "metadata": {},
   "outputs": [
    {
     "data": {
      "text/plain": [
       "120"
      ]
     },
     "execution_count": 9,
     "metadata": {},
     "output_type": "execute_result"
    }
   ],
   "source": [
    "math.lcm(15,10,40)"
   ]
  },
  {
   "cell_type": "markdown",
   "id": "3f48c071-0070-45e7-a711-0f909aef49cd",
   "metadata": {},
   "source": [
    "## Prime Number - sqrt(N) method"
   ]
  },
  {
   "cell_type": "code",
   "execution_count": 10,
   "id": "fc1b1055-b7d1-4ee5-b58b-b5afe9ce7298",
   "metadata": {},
   "outputs": [],
   "source": [
    "def isPrime(n):\n",
    "    \"\"\"\n",
    "    This function returns True or False based on primality check of n.\n",
    "    Time complexity - O(sqrt(n))\n",
    "    \"\"\"\n",
    "    \n",
    "    if n == 1:\n",
    "        return False\n",
    "    \n",
    "#     Search for factors in the range [2, sqrt(n)]\n",
    "#     sq = n ** (1/2)\n",
    "    sq = int(math.sqrt(n))\n",
    "\n",
    "    for i in range(2, sq + 1):\n",
    "        if n % i == 0:\n",
    "            return False\n",
    "        \n",
    "    return True"
   ]
  },
  {
   "cell_type": "code",
   "execution_count": 11,
   "id": "d7feb0e9-cdd6-48fe-8a30-663d87a024c0",
   "metadata": {},
   "outputs": [
    {
     "data": {
      "text/plain": [
       "True"
      ]
     },
     "execution_count": 11,
     "metadata": {},
     "output_type": "execute_result"
    }
   ],
   "source": [
    "isPrime(17)"
   ]
  },
  {
   "cell_type": "code",
   "execution_count": 12,
   "id": "74b4c78d-4f19-4aeb-b213-65c9a67b3b45",
   "metadata": {},
   "outputs": [
    {
     "data": {
      "text/plain": [
       "False"
      ]
     },
     "execution_count": 12,
     "metadata": {},
     "output_type": "execute_result"
    }
   ],
   "source": [
    "isPrime(20)"
   ]
  },
  {
   "cell_type": "code",
   "execution_count": 13,
   "id": "dbea28d5-2db7-4d47-96a8-ca5ae03a08b0",
   "metadata": {},
   "outputs": [
    {
     "data": {
      "text/plain": [
       "True"
      ]
     },
     "execution_count": 13,
     "metadata": {},
     "output_type": "execute_result"
    }
   ],
   "source": [
    "isPrime(101)"
   ]
  },
  {
   "cell_type": "code",
   "execution_count": 14,
   "id": "9c05bb9b-81e8-4479-89d3-b704add7ea70",
   "metadata": {},
   "outputs": [
    {
     "data": {
      "text/plain": [
       "True"
      ]
     },
     "execution_count": 14,
     "metadata": {},
     "output_type": "execute_result"
    }
   ],
   "source": [
    "isPrime(2)"
   ]
  },
  {
   "cell_type": "code",
   "execution_count": 15,
   "id": "a2f50791-502e-4f00-81e1-98cedb727c0d",
   "metadata": {},
   "outputs": [
    {
     "data": {
      "text/plain": [
       "False"
      ]
     },
     "execution_count": 15,
     "metadata": {},
     "output_type": "execute_result"
    }
   ],
   "source": [
    "isPrime(1)"
   ]
  },
  {
   "cell_type": "markdown",
   "id": "3ea65943-e57d-4b10-b30a-1a0abe7ca6db",
   "metadata": {},
   "source": [
    "## AP - Arithmatic Progression"
   ]
  },
  {
   "cell_type": "markdown",
   "id": "fd1fa33f-4bcc-4373-9203-6bd3722aede1",
   "metadata": {},
   "source": [
    "## GP - Geometric Progresssion"
   ]
  },
  {
   "cell_type": "markdown",
   "id": "186f5cd1-69b7-43ce-a659-04aeeb03a719",
   "metadata": {},
   "source": [
    "## Combinations"
   ]
  },
  {
   "cell_type": "markdown",
   "id": "7b4449c2-cba9-4412-adb4-e82aa264944c",
   "metadata": {},
   "source": [
    "math module method - \\\n",
    "`math.comb(n, r)`"
   ]
  },
  {
   "cell_type": "code",
   "execution_count": 16,
   "id": "02714122-343c-40c7-9aeb-02bf2bac316c",
   "metadata": {},
   "outputs": [
    {
     "data": {
      "text/plain": [
       "210"
      ]
     },
     "execution_count": 16,
     "metadata": {},
     "output_type": "execute_result"
    }
   ],
   "source": [
    "import math\n",
    "math.comb(10, 4)"
   ]
  },
  {
   "cell_type": "code",
   "execution_count": 17,
   "id": "17c80812-c06e-42a9-93b8-27399d7ffee0",
   "metadata": {},
   "outputs": [],
   "source": [
    "def combination(n, r):\n",
    "    num = math.factorial(n)\n",
    "    den = math.factorial(r) * math.factorial(n-r)\n",
    "    return num / den"
   ]
  },
  {
   "cell_type": "code",
   "execution_count": 18,
   "id": "60d2e8c7-0e3d-4caf-9b6c-9cc33f2d44f5",
   "metadata": {},
   "outputs": [
    {
     "data": {
      "text/plain": [
       "210.0"
      ]
     },
     "execution_count": 18,
     "metadata": {},
     "output_type": "execute_result"
    }
   ],
   "source": [
    "combination(10, 4)"
   ]
  },
  {
   "cell_type": "markdown",
   "id": "c274ce80-a6c8-4d14-a4e4-e451cfb36174",
   "metadata": {},
   "source": [
    "## Permutations\n",
    "\n",
    "math module method - \\\n",
    "`math.perm(n, r)`"
   ]
  },
  {
   "cell_type": "code",
   "execution_count": 19,
   "id": "1bbb19c3-2b7a-49c1-89e2-0f45b7a1ba1e",
   "metadata": {},
   "outputs": [
    {
     "data": {
      "text/plain": [
       "5040"
      ]
     },
     "execution_count": 19,
     "metadata": {},
     "output_type": "execute_result"
    }
   ],
   "source": [
    "math.perm(10, 4)"
   ]
  },
  {
   "cell_type": "code",
   "execution_count": 20,
   "id": "db8ad625-867d-477e-b877-ed3e98657510",
   "metadata": {},
   "outputs": [],
   "source": [
    "def permutation(n, r):\n",
    "    return math.factorial(n) / math.factorial(n-r)"
   ]
  },
  {
   "cell_type": "code",
   "execution_count": 21,
   "id": "b52951ad-1ec1-43a2-bbd5-4dd47f392d52",
   "metadata": {},
   "outputs": [
    {
     "data": {
      "text/plain": [
       "5040.0"
      ]
     },
     "execution_count": 21,
     "metadata": {},
     "output_type": "execute_result"
    }
   ],
   "source": [
    "permutation(10, 4)"
   ]
  },
  {
   "cell_type": "markdown",
   "id": "0b058a99-a008-4eae-bc09-7aac516de9e1",
   "metadata": {},
   "source": [
    "## Decimal to Binary"
   ]
  },
  {
   "cell_type": "markdown",
   "id": "49b57a6a-7732-4697-b742-a7b20507908c",
   "metadata": {},
   "source": [
    "Using python inbuilt functionality:\n",
    "```py\n",
    "def decimalToBinary(n):\n",
    "    return bin(n).replace(\"0b\", \"\")\n",
    "```\n",
    "\n",
    "Details - https://www.scaler.com/topics/convert-decimal-to-binary-in-python/"
   ]
  },
  {
   "cell_type": "code",
   "execution_count": 22,
   "id": "ad86523d-8538-4ee9-b0f8-83b5cc9d3cf6",
   "metadata": {},
   "outputs": [],
   "source": [
    "def decimalToBinary(n):\n",
    "    return bin(n).replace(\"0b\", \"\")"
   ]
  },
  {
   "cell_type": "code",
   "execution_count": 23,
   "id": "9f1083c2-8875-4faf-916a-5c1f276fbbd9",
   "metadata": {},
   "outputs": [
    {
     "data": {
      "text/plain": [
       "'0b10100'"
      ]
     },
     "execution_count": 23,
     "metadata": {},
     "output_type": "execute_result"
    }
   ],
   "source": [
    "bin(20)"
   ]
  },
  {
   "cell_type": "code",
   "execution_count": 24,
   "id": "7dcb0097-0faa-45e4-bd33-3a21d903d1e4",
   "metadata": {},
   "outputs": [],
   "source": [
    "def decimalToBinary(n):\n",
    "    l = []\n",
    "    while n > 0:\n",
    "        remainder = n % 2\n",
    "        l.append(str(remainder))\n",
    "        n = n // 2\n",
    "    \n",
    "#     Reverse the list\n",
    "    l = list(reversed(l))\n",
    "    return \"\".join(l)"
   ]
  },
  {
   "cell_type": "code",
   "execution_count": 25,
   "id": "04f7210f-0bfa-40b5-9358-f313015e979d",
   "metadata": {},
   "outputs": [
    {
     "data": {
      "text/plain": [
       "'10100'"
      ]
     },
     "execution_count": 25,
     "metadata": {},
     "output_type": "execute_result"
    }
   ],
   "source": [
    "decimalToBinary(20)"
   ]
  },
  {
   "cell_type": "markdown",
   "id": "571fba0c-68ca-40bc-a0f9-5cb84c227c90",
   "metadata": {},
   "source": [
    "## Binary to Decimal"
   ]
  },
  {
   "cell_type": "markdown",
   "id": "0ec10ad3-3361-47ce-ab14-3b4b9ff634eb",
   "metadata": {},
   "source": [
    "Using python inbuilt functionality:\n",
    "```py\n",
    "def binaryToDecimal(x):\n",
    "    return int(x, 2)\n",
    "```\n",
    "\n",
    "Details - https://www.scaler.com/topics/convert-decimal-to-binary-in-python/"
   ]
  },
  {
   "cell_type": "code",
   "execution_count": 26,
   "id": "a54fa6d5-491c-4813-948a-a36e57fef736",
   "metadata": {},
   "outputs": [],
   "source": [
    "# s is a binary string\n",
    "def binaryToDecimal(s):\n",
    "    i = 0\n",
    "    result = 0\n",
    "    \n",
    "    for digit in s[::-1]:\n",
    "        result += int(digit) * (2**i)\n",
    "        i = i + 1\n",
    "        \n",
    "    return result"
   ]
  },
  {
   "cell_type": "code",
   "execution_count": 27,
   "id": "24f44166-e2e1-4b96-9730-1ce29a34b0d7",
   "metadata": {},
   "outputs": [
    {
     "data": {
      "text/plain": [
       "20"
      ]
     },
     "execution_count": 27,
     "metadata": {},
     "output_type": "execute_result"
    }
   ],
   "source": [
    "binaryToDecimal(\"10100\")"
   ]
  },
  {
   "cell_type": "markdown",
   "id": "b63870c4-8d10-4420-b3ac-1edafd6ac08c",
   "metadata": {},
   "source": [
    "## Problem - Trailing zeros in factorial\n",
    "\n",
    "Problem Link - [Trailing Zeros In Factorial](https://www.interviewbit.com/problems/trailing-zeros-in-factorial/)\n",
    "\n",
    "Youtube Video - [Trailing Zeros In Factorial](https://www.youtube.com/watch?v=wkvVdggCSeo&t=687s)"
   ]
  },
  {
   "cell_type": "code",
   "execution_count": 28,
   "id": "c933e7be-41cc-499e-a5cb-51bbfcf0beb6",
   "metadata": {},
   "outputs": [
    {
     "data": {
      "text/plain": [
       "265252859812191058636308480000000"
      ]
     },
     "execution_count": 28,
     "metadata": {},
     "output_type": "execute_result"
    }
   ],
   "source": [
    "math.factorial(30)"
   ]
  },
  {
   "cell_type": "code",
   "execution_count": 29,
   "id": "5ef827ad-7dc0-48dd-9a2d-06ac5983e577",
   "metadata": {},
   "outputs": [
    {
     "data": {
      "text/plain": [
       "9.210340371976184"
      ]
     },
     "execution_count": 29,
     "metadata": {},
     "output_type": "execute_result"
    }
   ],
   "source": [
    "math.log(10**4)"
   ]
  },
  {
   "cell_type": "code",
   "execution_count": 30,
   "id": "78f9d8e2-0ff4-4afc-beb7-da3a1df70db8",
   "metadata": {},
   "outputs": [],
   "source": [
    "def trailingZeroes(self, A):\n",
    "        result = 0\n",
    "        den = 5\n",
    "\n",
    "        x = A // den\n",
    "\n",
    "        while x >= 1:\n",
    "            result += x\n",
    "            den *= 5\n",
    "            x = A // den\n",
    "\n",
    "        return result"
   ]
  }
 ],
 "metadata": {
  "kernelspec": {
   "display_name": "Python 3 (ipykernel)",
   "language": "python",
   "name": "python3"
  },
  "language_info": {
   "codemirror_mode": {
    "name": "ipython",
    "version": 3
   },
   "file_extension": ".py",
   "mimetype": "text/x-python",
   "name": "python",
   "nbconvert_exporter": "python",
   "pygments_lexer": "ipython3",
   "version": "3.11.7"
  }
 },
 "nbformat": 4,
 "nbformat_minor": 5
}
